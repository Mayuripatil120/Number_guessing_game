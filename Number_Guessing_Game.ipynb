{
 "cells": [
  {
   "cell_type": "code",
   "execution_count": 15,
   "id": "0a1d787f-ea1a-4cf8-b6b9-27031e42710d",
   "metadata": {},
   "outputs": [
    {
     "name": "stdout",
     "output_type": "stream",
     "text": [
      "Welcome to the number guessing Game\n",
      "You Will Be 3 Attempts\n",
      "It is Your 1 attempt\n"
     ]
    },
    {
     "name": "stdin",
     "output_type": "stream",
     "text": [
      "Enter Any No Between 0 To 10 2\n"
     ]
    },
    {
     "name": "stdout",
     "output_type": "stream",
     "text": [
      "Your Input : 2\n",
      "Try Again\n",
      "It is Your 2 attempt\n"
     ]
    },
    {
     "name": "stdin",
     "output_type": "stream",
     "text": [
      "Enter Any No Between 0 To 10 3\n"
     ]
    },
    {
     "name": "stdout",
     "output_type": "stream",
     "text": [
      "Your Input : 3\n",
      "Try Again\n",
      "It is Your 3 attempt\n"
     ]
    },
    {
     "name": "stdin",
     "output_type": "stream",
     "text": [
      "Enter Any No Between 0 To 10 4\n"
     ]
    },
    {
     "name": "stdout",
     "output_type": "stream",
     "text": [
      "Your Input : 4\n",
      "Better Luck Next Time\n"
     ]
    }
   ],
   "source": [
    "import numpy as np\n",
    "comp_input=np.random.randint(1,10)\n",
    "l=['Try Again','Try Again','Better Luck Next Time']\n",
    "print(\"Welcome to the number guessing Game\")\n",
    "print('You Will Be 3 Attempts')\n",
    "\n",
    "count=0\n",
    "for i in range(3):\n",
    "\n",
    "    count=count+1\n",
    "    \n",
    "    print('It is Your',count,'attempt')\n",
    "    user_input=int(input('Enter Any No Between 0 To 10'))\n",
    "    print('Your Input :',user_input)\n",
    "    \n",
    "    \n",
    "    if count==1 and comp_input==user_input:\n",
    "        print('Congratualtions You Won in 1st attempt ')\n",
    "        break\n",
    "        \n",
    "    elif count==2 and comp_input==user_input:\n",
    "        print('Congratulations You Won in 2nd Attempt')\n",
    "        break\n",
    "    elif count==3 and comp_input==user_input:\n",
    "        print('Congratulations You Won in 3rd Attempt')\n",
    "    else:\n",
    "        print(l[i])\n"
   ]
  },
  {
   "cell_type": "code",
   "execution_count": null,
   "id": "0f52b521-614e-4cd3-a188-1b3bf9884427",
   "metadata": {},
   "outputs": [],
   "source": []
  },
  {
   "cell_type": "code",
   "execution_count": null,
   "id": "698532da-d497-4ae0-88b2-e6eed5734618",
   "metadata": {},
   "outputs": [],
   "source": []
  }
 ],
 "metadata": {
  "kernelspec": {
   "display_name": "Python 3 (ipykernel)",
   "language": "python",
   "name": "python3"
  },
  "language_info": {
   "codemirror_mode": {
    "name": "ipython",
    "version": 3
   },
   "file_extension": ".py",
   "mimetype": "text/x-python",
   "name": "python",
   "nbconvert_exporter": "python",
   "pygments_lexer": "ipython3",
   "version": "3.12.4"
  }
 },
 "nbformat": 4,
 "nbformat_minor": 5
}
